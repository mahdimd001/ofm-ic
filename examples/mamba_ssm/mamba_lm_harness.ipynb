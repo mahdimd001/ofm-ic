{
 "cells": [
  {
   "cell_type": "markdown",
   "metadata": {},
   "source": [
    "# Extract subents from Mamba-supernet with OSF\n",
    "\n",
    "In this tutorial, we will show you how to quickly extract a subnet from Mamba-1.4B optimized by OSF. The downsized model is more efficient with siginificantly reduced parameters and FLOPs, while maintaining the competitive performance as the original model."
   ]
  },
  {
   "cell_type": "markdown",
   "metadata": {},
   "source": [
    "First, import dependency packages, and utility function for calculate model size."
   ]
  },
  {
   "cell_type": "code",
   "execution_count": null,
   "metadata": {},
   "outputs": [],
   "source": [
    "from datasets import load_dataset\n",
    "from transformers import (\n",
    "    AutoTokenizer,\n",
    "    AutoModelForCausalLM,\n",
    "    TrainingArguments,\n",
    "    Trainer,\n",
    "    DataCollatorForLanguageModeling,\n",
    ")\n",
    "import torch\n",
    "from datasets import load_dataset\n",
    "from ofm import OFM"
   ]
  },
  {
   "cell_type": "code",
   "execution_count": 2,
   "metadata": {},
   "outputs": [],
   "source": [
    "\n",
    "from torch.nn import Parameter\n",
    "def calculate_params(model):\n",
    "    \"\"\"calculate the number of parameters in the model\n",
    "    Args:\n",
    "        model: the model to be evaluated\n",
    "    Returns:\n",
    "        total_params: the number of parameters in the model\n",
    "        percentage: the percentage of trainable parameters in the model\n",
    "    \"\"\"\n",
    "\n",
    "    millions = 1000000\n",
    "    total_params = 0\n",
    "    for name, module in model.named_modules():\n",
    "        if hasattr(module, \"weight\") and isinstance(module.weight, Parameter):\n",
    "            total_params += torch.prod(torch.tensor(module.weight.size())).item()\n",
    "\n",
    "    return total_params / millions\n"
   ]
  },
  {
   "cell_type": "markdown",
   "metadata": {},
   "source": [
    "Then, we load Mamba-1.4B supernet optimized by OSF use Huggingface `AutoModelForCausalLM` API.\n",
    "\n",
    "You can find our published checkpoint at [README.md](README.md)\n",
    "\n",
    "The Mamba checkpoint we used is [here](https://huggingface.co/yusx-swapp/ofm-mamba-1.4b-lambda-hf)"
   ]
  },
  {
   "cell_type": "code",
   "execution_count": 3,
   "metadata": {},
   "outputs": [
    {
     "name": "stderr",
     "output_type": "stream",
     "text": [
      "Loading checkpoint shards: 100%|██████████| 2/2 [00:03<00:00,  1.59s/it]\n",
      "Special tokens have been added in the vocabulary, make sure the associated word embeddings are fine-tuned or trained.\n"
     ]
    }
   ],
   "source": [
    "model = AutoModelForCausalLM.from_pretrained(\n",
    "    \"yusx-swapp/ofm-mamba-1.4b-lambda-hf\"\n",
    ")\n",
    "tokenizer = AutoTokenizer.from_pretrained(\"yusx-swapp/ofm-mamba-1.4b-lambda-hf\")\n"
   ]
  },
  {
   "cell_type": "markdown",
   "metadata": {},
   "source": [
    "Next, we convert the Mamba-1.4B model to a supernet via OSF supernet class `OFM`, with only 1 line of code.\n",
    "\n",
    "\n",
    "\n"
   ]
  },
  {
   "cell_type": "code",
   "execution_count": 4,
   "metadata": {},
   "outputs": [],
   "source": [
    "supernet = OFM(model=model)\n"
   ]
  },
  {
   "cell_type": "markdown",
   "metadata": {},
   "source": [
    "To extract a subnet from the supernet, we can simply call the `resource_aware_model` API. There are multiple ways to get a subnet, such as specifying the target model structure, get smallest size model with a elastic space, or get a random downsized model. More details can be found in the `examples/post_training_deployment`.\n",
    "\n",
    "In this example, we extract the smallest model within tge elastic space with API `OFM.smallest_model()`."
   ]
  },
  {
   "cell_type": "code",
   "execution_count": 5,
   "metadata": {},
   "outputs": [],
   "source": [
    "ds_model, param, arc_config = supernet.smallest_model()\n"
   ]
  },
  {
   "cell_type": "markdown",
   "metadata": {},
   "source": [
    "Let's compare the model size between the original model and the subnet."
   ]
  },
  {
   "cell_type": "code",
   "execution_count": 6,
   "metadata": {},
   "outputs": [
    {
     "name": "stdout",
     "output_type": "stream",
     "text": [
      "Original model has 1471.41632M parameters\n",
      "Downsized model has 601.475072M parameters\n",
      "Total model size reduction: 869.9412480000001M\n"
     ]
    }
   ],
   "source": [
    "original_model_params = calculate_params(model)\n",
    "ds_model_params = calculate_params(ds_model)\n",
    "print(f\"Original model has {original_model_params}M parameters\")\n",
    "print(f\"Downsized model has {ds_model_params}M parameters\")\n",
    "print(f\"Total model size reduction: {original_model_params - ds_model_params}M\")"
   ]
  },
  {
   "cell_type": "markdown",
   "metadata": {},
   "source": [
    "Now, let's evaluate the subnet's performance on the Lambada dataset via the metric of **perplexity**.\n",
    "\n",
    "First, we load the Lambada dataset and preprocess it.\n",
    "\n"
   ]
  },
  {
   "cell_type": "code",
   "execution_count": 7,
   "metadata": {},
   "outputs": [
    {
     "name": "stderr",
     "output_type": "stream",
     "text": [
      "Downloading readme: 100%|██████████| 7.32k/7.32k [00:00<00:00, 31.2MB/s]\n",
      "Map: 100%|██████████| 5153/5153 [00:03<00:00, 1568.99 examples/s]\n"
     ]
    }
   ],
   "source": [
    "dataset = load_dataset(\"lambada\")\n",
    "\n",
    "\n",
    "def tokenize_function(examples):\n",
    "    return tokenizer(\n",
    "        examples[\"text\"], padding=\"max_length\", truncation=True, max_length=1024\n",
    "    )\n",
    "tokenized_datasets = dataset.map(tokenize_function, batched=True)\n",
    "\n",
    "data_collator = DataCollatorForLanguageModeling(tokenizer, mlm=False)\n",
    "\n"
   ]
  },
  {
   "cell_type": "markdown",
   "metadata": {},
   "source": [
    "Then, we use huggingface `Trainer.evaluate()` API to evaluate the subnet on the Lambada dataset.\n"
   ]
  },
  {
   "cell_type": "code",
   "execution_count": 8,
   "metadata": {},
   "outputs": [
    {
     "data": {
      "text/html": [
       "\n",
       "    <div>\n",
       "      \n",
       "      <progress value='645' max='645' style='width:300px; height:20px; vertical-align: middle;'></progress>\n",
       "      [645/645 01:22]\n",
       "    </div>\n",
       "    "
      ],
      "text/plain": [
       "<IPython.core.display.HTML object>"
      ]
     },
     "metadata": {},
     "output_type": "display_data"
    }
   ],
   "source": [
    "training_args = TrainingArguments(\n",
    "    output_dir=\"./eval\",\n",
    "    num_train_epochs=20,\n",
    "    per_device_train_batch_size=16,\n",
    "    logging_dir=\"./logs\",\n",
    "    logging_steps=10,\n",
    "    warmup_steps=100,\n",
    "    weight_decay=0.01,\n",
    "    learning_rate=2e-5,\n",
    "    fp16=True,\n",
    "    eval_steps=100,\n",
    "    save_total_limit=1,\n",
    ")\n",
    "\n",
    "trainer = Trainer(\n",
    "    model=ds_model,\n",
    "    tokenizer=tokenizer,\n",
    "    args=training_args,\n",
    "    data_collator=data_collator,\n",
    "    train_dataset=None,\n",
    "    eval_dataset=tokenized_datasets[\"test\"],\n",
    ")\n",
    "\n",
    "eval_metrics = trainer.evaluate()"
   ]
  },
  {
   "cell_type": "markdown",
   "metadata": {},
   "source": [
    "\n",
    "Finally, we compare calculate perplexity of the subnet with the original model.\n",
    "The details of how to calculate perplexity and what is the perplexity can be found in the [link](https://huggingface.co/docs/transformers/en/perplexity)."
   ]
  },
  {
   "cell_type": "code",
   "execution_count": 9,
   "metadata": {},
   "outputs": [
    {
     "name": "stdout",
     "output_type": "stream",
     "text": [
      "Perplexity: 4.931185245513916\n"
     ]
    }
   ],
   "source": [
    "\n",
    "loss = eval_metrics[\"eval_loss\"]\n",
    "\n",
    "perplexity = torch.exp(torch.tensor(loss))\n",
    "\n",
    "print(f\"Perplexity: {perplexity}\")"
   ]
  },
  {
   "cell_type": "code",
   "execution_count": null,
   "metadata": {},
   "outputs": [],
   "source": []
  }
 ],
 "metadata": {
  "kernelspec": {
   "display_name": "ofm",
   "language": "python",
   "name": "python3"
  },
  "language_info": {
   "codemirror_mode": {
    "name": "ipython",
    "version": 3
   },
   "file_extension": ".py",
   "mimetype": "text/x-python",
   "name": "python",
   "nbconvert_exporter": "python",
   "pygments_lexer": "ipython3",
   "version": "3.11.7"
  }
 },
 "nbformat": 4,
 "nbformat_minor": 2
}
