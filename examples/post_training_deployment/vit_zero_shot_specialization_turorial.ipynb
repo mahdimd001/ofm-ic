{
 "cells": [
  {
   "cell_type": "markdown",
   "id": "85a7b09f",
   "metadata": {
    "jp-MarkdownHeadingCollapsed": true,
    "tags": []
   },
   "source": [
    "# Subnets specialization with OSF supernet\n",
    "\n",
    "In this tutorial we will show you one of the key contribution of OSF:\n",
    "\n",
    "**Convert a target pre-trained model to a supernet, and quickly compress the model to meet various resource constraints, without retraining**\n",
    "\n",
    "\n",
    "To run this Tutorial, you need to install our package:  **`pip install .`**.\n",
    "\n",
    "In this tutorial we use ViT with CIFAR-100 dataset as an example. We will show how to specialize the model to meet various resource constraints, without retraining."
   ]
  },
  {
   "cell_type": "markdown",
   "id": "53c81302",
   "metadata": {},
   "source": [
    "## Step 1: import dependency libary"
   ]
  },
  {
   "cell_type": "code",
   "execution_count": null,
   "id": "deebb429",
   "metadata": {
    "tags": []
   },
   "outputs": [],
   "source": [
    "\n",
    "import numpy as np\n",
    "import evaluate\n",
    "from transformers import AutoImageProcessor, AutoModelForImageClassification, TrainingArguments, Trainer\n",
    "from datasets import load_dataset\n",
    "from ofm import OFM\n",
    "import torch\n",
    "import os\n"
   ]
  },
  {
   "cell_type": "markdown",
   "id": "73ecbcbe",
   "metadata": {},
   "source": [
    "Define a utility function to calculate number of parameters in a model"
   ]
  },
  {
   "cell_type": "code",
   "execution_count": 2,
   "id": "747fb355",
   "metadata": {
    "tags": []
   },
   "outputs": [],
   "source": [
    "from torch.nn import Parameter\n",
    "\n",
    "def calculate_params(model):\n",
    "    \"\"\"calculate the number of parameters in the model\n",
    "    Args:\n",
    "        model: the model to be evaluated\n",
    "    Returns:\n",
    "        total_params: the number of parameters in the model\n",
    "        percentage: the percentage of trainable parameters in the model\n",
    "    \"\"\"\n",
    "\n",
    "    millions = 1000000\n",
    "    total_params = 0\n",
    "    for name, module in model.named_modules():\n",
    "        if hasattr(module, \"weight\") and isinstance(module.weight, Parameter):\n",
    "            total_params += torch.prod(torch.tensor(module.weight.size())).item()\n",
    "\n",
    "    return total_params / millions\n"
   ]
  },
  {
   "cell_type": "markdown",
   "id": "c35d7cee",
   "metadata": {},
   "source": [
    "## Step 3. Load dataset and pre-process\n",
    "First define the dataset process function for datasets from [Refer to the tutorial](https://huggingface.co/docs/transformers/tasks/image_classification)"
   ]
  },
  {
   "cell_type": "code",
   "execution_count": 3,
   "id": "3aad21ce",
   "metadata": {
    "tags": []
   },
   "outputs": [],
   "source": [
    "\n",
    "def collate_fn(batch):\n",
    "    return {\n",
    "        'pixel_values': torch.stack([x['pixel_values'] for x in batch]),\n",
    "        'labels': torch.tensor([x['labels'] for x in batch])\n",
    "    }\n",
    "    \n",
    "def transform(example_batch):\n",
    "    # Take a list of PIL images and turn them to pixel values\n",
    "    processor = AutoImageProcessor.from_pretrained(\"google/vit-base-patch16-224\")\n",
    "    inputs = processor([x for x in example_batch['img']], return_tensors='pt')\n",
    "\n",
    "    # Don't forget to include the labels!\n",
    "    inputs['labels'] = example_batch['label']\n",
    "    return inputs"
   ]
  },
  {
   "cell_type": "markdown",
   "id": "4a299bc8",
   "metadata": {},
   "source": [
    "Then load and preprocess the datapoints from images to torch tensors, here we use CIFAR-100 as an example."
   ]
  },
  {
   "cell_type": "code",
   "execution_count": 4,
   "id": "02d9f03d",
   "metadata": {
    "tags": []
   },
   "outputs": [],
   "source": [
    "dataset = load_dataset('cifar100')\n",
    "dataset = dataset.rename_column(\"fine_label\", \"label\")\n",
    "\n",
    "train_val = dataset[\"train\"].train_test_split(test_size=0.2,seed=123)\n",
    "\n",
    "dataset['train'] = train_val[\"train\"]\n",
    "dataset[\"validation\"] = train_val[\"test\"]\n",
    "\n",
    "prepared_ds = dataset.with_transform(transform)\n"
   ]
  },
  {
   "cell_type": "markdown",
   "id": "ebfd6393",
   "metadata": {},
   "source": [
    "Check the dataset status"
   ]
  },
  {
   "cell_type": "code",
   "execution_count": 5,
   "id": "549e0e3c",
   "metadata": {
    "tags": []
   },
   "outputs": [
    {
     "data": {
      "text/plain": [
       "DatasetDict({\n",
       "    train: Dataset({\n",
       "        features: ['img', 'label', 'coarse_label'],\n",
       "        num_rows: 40000\n",
       "    })\n",
       "    test: Dataset({\n",
       "        features: ['img', 'label', 'coarse_label'],\n",
       "        num_rows: 10000\n",
       "    })\n",
       "    validation: Dataset({\n",
       "        features: ['img', 'label', 'coarse_label'],\n",
       "        num_rows: 10000\n",
       "    })\n",
       "})"
      ]
     },
     "execution_count": 5,
     "metadata": {},
     "output_type": "execute_result"
    }
   ],
   "source": [
    "\n",
    "prepared_ds\n"
   ]
  },
  {
   "cell_type": "markdown",
   "id": "b4c53e41",
   "metadata": {},
   "source": [
    "## Step 3. Initialize a pre-trained model\n",
    "\n",
    "Initialize the model with our supernet ckpts.\n",
    "You can find the ckpts in [README.MD](./README.MD).\n",
    "\n",
    "In this example, the supernet checkpoint you can find from **[here](https://huggingface.co/yusx-swapp/ofm-vit-base-patch16-224-cifar100)**\n"
   ]
  },
  {
   "cell_type": "code",
   "execution_count": 6,
   "id": "f5f9412c",
   "metadata": {
    "tags": []
   },
   "outputs": [],
   "source": [
    "# use our pretrained ckpts: https://huggingface.co/yusx-swapp/ofm-vit-base-patch16-224-cifar100\n",
    "ckpt_path = 'yusx-swapp/ofm-vit-base-patch16-224-cifar100'\n",
    "labels = dataset['train'].features['label'].names\n",
    "\n",
    "model = AutoModelForImageClassification.from_pretrained(\n",
    "    ckpt_path,\n",
    "    num_labels=len(labels),\n",
    "    id2label={str(i): c for i, c in enumerate(labels)},\n",
    "    label2id={c: str(i) for i, c in enumerate(labels)}\n",
    ")"
   ]
  },
  {
   "cell_type": "markdown",
   "id": "5fefefc5",
   "metadata": {},
   "source": [
    "## Step 4. Convert the model to OSF supernet\n",
    "\n",
    "Now let's convert the FM to OSF supernet via a high level `OFM` supernet conversion APIs, and check the status of the supernet"
   ]
  },
  {
   "cell_type": "code",
   "execution_count": 7,
   "id": "4f4370c1",
   "metadata": {
    "tags": []
   },
   "outputs": [
    {
     "name": "stdout",
     "output_type": "stream",
     "text": [
      "Original FM number of parameters: 85.62048\n"
     ]
    }
   ],
   "source": [
    "\n",
    "supernet = OFM(model.to(\"cpu\"))\n",
    "print(\"Original FM number of parameters:\",supernet.total_params)"
   ]
  },
  {
   "cell_type": "markdown",
   "id": "afb123dc",
   "metadata": {},
   "source": [
    "# Experiment"
   ]
  },
  {
   "cell_type": "markdown",
   "id": "6f64b133",
   "metadata": {},
   "source": [
    "## Randomly sample a subnet"
   ]
  },
  {
   "cell_type": "code",
   "execution_count": 8,
   "id": "e3e057bf",
   "metadata": {
    "tags": []
   },
   "outputs": [],
   "source": [
    "ds_model,_,_ = supernet.random_resource_aware_model()\n"
   ]
  },
  {
   "cell_type": "markdown",
   "id": "97a79b99",
   "metadata": {},
   "source": [
    "## Check the subnet model architecture\n",
    "\n",
    "OSF modeling a pre-trained model as hierarchical subnets representation instead of binary-masking or zero-masking the weights, we etract the clean subnet, and the model size **is truely reduced**."
   ]
  },
  {
   "cell_type": "code",
   "execution_count": 9,
   "id": "af4bf0d6",
   "metadata": {},
   "outputs": [
    {
     "name": "stdout",
     "output_type": "stream",
     "text": [
      "scaled model params 53.911656\n"
     ]
    }
   ],
   "source": [
    "params = calculate_params(ds_model)\n",
    "print(\"scaled model params\",params)\n",
    "# You can also print the model to see the architecture\n",
    "# print(scaled_model)"
   ]
  },
  {
   "cell_type": "markdown",
   "id": "b937850d",
   "metadata": {},
   "source": [
    "# Evaluate the sampled subnets"
   ]
  },
  {
   "cell_type": "code",
   "execution_count": 10,
   "id": "e6175920",
   "metadata": {
    "tags": []
   },
   "outputs": [],
   "source": [
    "def compute_metrics(eval_pred):\n",
    "    \"\"\"This function is used to compute the metrics for the evaluation.\n",
    "\n",
    "    Args:\n",
    "        eval_pred: The output of the Trainer.evaluate function\n",
    "    returns:\n",
    "        A dictionary of metrics\n",
    "    \"\"\"\n",
    "    accuracy_metric = evaluate.load(\"accuracy\")\n",
    "    f1_metric = evaluate.load(\"f1\")\n",
    "\n",
    "    accuracy = accuracy_metric.compute(\n",
    "        predictions=np.argmax(eval_pred.predictions, axis=1),\n",
    "        references=eval_pred.label_ids,\n",
    "    )\n",
    "    f1 = f1_metric.compute(\n",
    "        predictions=np.argmax(eval_pred.predictions, axis=1),\n",
    "        references=eval_pred.label_ids,\n",
    "        average=\"weighted\",\n",
    "    )\n",
    "\n",
    "    return {\"metric\": accuracy[\"accuracy\"], \"f1\": f1[\"f1\"]}\n"
   ]
  },
  {
   "cell_type": "markdown",
   "id": "a58dee42",
   "metadata": {},
   "source": [
    "## Now we use Trainer to evaluate the sampled subnets"
   ]
  },
  {
   "cell_type": "code",
   "execution_count": 11,
   "id": "288843d3",
   "metadata": {
    "tags": []
   },
   "outputs": [],
   "source": [
    "training_args = TrainingArguments(\n",
    "  output_dir=\"./log/debug\",\n",
    "  per_device_train_batch_size=16,\n",
    "  per_device_eval_batch_size=256,\n",
    "  evaluation_strategy=\"steps\",\n",
    "  num_train_epochs=4,\n",
    "  save_steps=100,\n",
    "  eval_steps=100,\n",
    "  logging_steps=10,\n",
    "  learning_rate=2e-4,\n",
    "  save_total_limit=2,\n",
    "  remove_unused_columns=False,\n",
    "  push_to_hub=False,\n",
    "  report_to='tensorboard',\n",
    "  load_best_model_at_end=True,\n",
    ")\n",
    "\n",
    "trainer = Trainer(\n",
    "    model=ds_model,\n",
    "    args=training_args,\n",
    "    data_collator=collate_fn,\n",
    "    compute_metrics=compute_metrics,\n",
    "    train_dataset=None,\n",
    "    eval_dataset=prepared_ds[\"validation\"],\n",
    "    # tokenizer=processor,\n",
    ")\n",
    "\n"
   ]
  },
  {
   "cell_type": "code",
   "execution_count": 12,
   "id": "608749cc-617f-4542-9d5b-7244340de907",
   "metadata": {
    "tags": []
   },
   "outputs": [
    {
     "data": {
      "text/html": [
       "\n",
       "    <div>\n",
       "      \n",
       "      <progress value='40' max='40' style='width:300px; height:20px; vertical-align: middle;'></progress>\n",
       "      [40/40 00:58]\n",
       "    </div>\n",
       "    "
      ],
      "text/plain": [
       "<IPython.core.display.HTML object>"
      ]
     },
     "metadata": {},
     "output_type": "display_data"
    }
   ],
   "source": [
    "metrics = trainer.evaluate()"
   ]
  },
  {
   "cell_type": "markdown",
   "id": "b202b7dd",
   "metadata": {},
   "source": [
    "We get **98.17%** accuracy from the subnets, **without further training**!"
   ]
  },
  {
   "cell_type": "code",
   "execution_count": 13,
   "id": "5df36eff-5c2c-4095-a4ac-ef4a3a6cf62b",
   "metadata": {
    "tags": []
   },
   "outputs": [
    {
     "name": "stdout",
     "output_type": "stream",
     "text": [
      "***** eval metrics *****\n",
      "  eval_f1                 =     0.9817\n",
      "  eval_loss               =     0.1817\n",
      "  eval_metric             =     0.9817\n",
      "  eval_runtime            = 0:01:03.07\n",
      "  eval_samples_per_second =    158.536\n",
      "  eval_steps_per_second   =      0.634\n"
     ]
    }
   ],
   "source": [
    "trainer.log_metrics(\"eval\", metrics)\n",
    "trainer.save_metrics(\"eval\", metrics)"
   ]
  },
  {
   "cell_type": "markdown",
   "id": "10d9dcf0",
   "metadata": {},
   "source": [
    "## Sample another subnet and evaluation\n",
    "You can sample as much as possible subnets from the supernet."
   ]
  },
  {
   "cell_type": "code",
   "execution_count": 14,
   "id": "9832265e-5362-4d8d-bf7f-37ccc6053593",
   "metadata": {
    "tags": []
   },
   "outputs": [],
   "source": [
    "scaled_model,_,_ = supernet.smallest_model()\n",
    "\n"
   ]
  },
  {
   "cell_type": "code",
   "execution_count": 15,
   "id": "7cf8c3e0",
   "metadata": {},
   "outputs": [
    {
     "name": "stdout",
     "output_type": "stream",
     "text": [
      "scaled model params 39.396456\n",
      "ViTForImageClassification(\n",
      "  (vit): ViTModel(\n",
      "    (embeddings): ViTEmbeddings(\n",
      "      (patch_embeddings): ViTPatchEmbeddings(\n",
      "        (projection): Conv2d(3, 648, kernel_size=(16, 16), stride=(16, 16))\n",
      "      )\n",
      "      (dropout): Dropout(p=0.0, inplace=False)\n",
      "    )\n",
      "    (encoder): ViTEncoder(\n",
      "      (layer): ModuleList(\n",
      "        (0-11): 12 x ViTLayer(\n",
      "          (attention): ViTAttention(\n",
      "            (attention): ViTSelfAttention(\n",
      "              (query): Linear(in_features=648, out_features=768, bias=True)\n",
      "              (key): Linear(in_features=648, out_features=768, bias=True)\n",
      "              (value): Linear(in_features=648, out_features=768, bias=True)\n",
      "              (dropout): Dropout(p=0.0, inplace=False)\n",
      "            )\n",
      "            (output): ViTSelfOutput(\n",
      "              (dense): Linear(in_features=768, out_features=648, bias=True)\n",
      "              (dropout): Dropout(p=0.0, inplace=False)\n",
      "            )\n",
      "          )\n",
      "          (intermediate): ViTIntermediate(\n",
      "            (dense): Linear(in_features=648, out_features=960, bias=True)\n",
      "            (intermediate_act_fn): GELUActivation()\n",
      "          )\n",
      "          (output): ViTOutput(\n",
      "            (dense): Linear(in_features=960, out_features=648, bias=True)\n",
      "            (dropout): Dropout(p=0.0, inplace=False)\n",
      "          )\n",
      "          (layernorm_before): LayerNorm((648,), eps=1e-12, elementwise_affine=True)\n",
      "          (layernorm_after): LayerNorm((648,), eps=1e-12, elementwise_affine=True)\n",
      "        )\n",
      "      )\n",
      "    )\n",
      "    (layernorm): LayerNorm((648,), eps=1e-12, elementwise_affine=True)\n",
      "  )\n",
      "  (classifier): Linear(in_features=648, out_features=100, bias=True)\n",
      ")\n"
     ]
    }
   ],
   "source": [
    "params = calculate_params(scaled_model)\n",
    "print(\"scaled model params\",params)\n",
    "# print(scaled_model)"
   ]
  },
  {
   "cell_type": "code",
   "execution_count": 16,
   "id": "d1941ac0",
   "metadata": {
    "tags": []
   },
   "outputs": [
    {
     "data": {
      "text/html": [
       "\n",
       "    <div>\n",
       "      \n",
       "      <progress value='40' max='40' style='width:300px; height:20px; vertical-align: middle;'></progress>\n",
       "      [40/40 00:58]\n",
       "    </div>\n",
       "    "
      ],
      "text/plain": [
       "<IPython.core.display.HTML object>"
      ]
     },
     "metadata": {},
     "output_type": "display_data"
    }
   ],
   "source": [
    "\n",
    "trainer = Trainer(\n",
    "    model=scaled_model,\n",
    "    args=training_args,\n",
    "    data_collator=collate_fn,\n",
    "    compute_metrics=compute_metrics,\n",
    "    train_dataset=None,\n",
    "    eval_dataset=prepared_ds[\"validation\"],\n",
    "    # tokenizer=processor,\n",
    ")\n",
    "metrics = trainer.evaluate()\n"
   ]
  },
  {
   "cell_type": "markdown",
   "id": "4aaa5929",
   "metadata": {},
   "source": [
    "In the second subnet we get **97.31%** Accuracy."
   ]
  },
  {
   "cell_type": "code",
   "execution_count": 17,
   "id": "a642cbb8",
   "metadata": {
    "tags": []
   },
   "outputs": [
    {
     "name": "stdout",
     "output_type": "stream",
     "text": [
      "***** eval metrics *****\n",
      "  eval_accuracy           =     0.9731\n",
      "  eval_loss               =     0.2604\n",
      "  eval_runtime            = 0:01:00.99\n",
      "  eval_samples_per_second =    163.953\n",
      "  eval_steps_per_second   =      0.656\n"
     ]
    }
   ],
   "source": [
    "trainer.log_metrics(\"eval\", metrics)\n",
    "trainer.save_metrics(\"eval\", metrics)"
   ]
  },
  {
   "cell_type": "markdown",
   "id": "f27dda4f",
   "metadata": {},
   "source": [
    "# Not enough More models!\n",
    "Sample one more subnets and evaluation"
   ]
  },
  {
   "cell_type": "code",
   "execution_count": 18,
   "id": "5ab97fd7-beb3-4d4e-a210-91d22a06702e",
   "metadata": {},
   "outputs": [
    {
     "name": "stdout",
     "output_type": "stream",
     "text": [
      "scaled model params 50.510952\n",
      "ViTForImageClassification(\n",
      "  (vit): ViTModel(\n",
      "    (embeddings): ViTEmbeddings(\n",
      "      (patch_embeddings): ViTPatchEmbeddings(\n",
      "        (projection): Conv2d(3, 648, kernel_size=(16, 16), stride=(16, 16))\n",
      "      )\n",
      "      (dropout): Dropout(p=0.0, inplace=False)\n",
      "    )\n",
      "    (encoder): ViTEncoder(\n",
      "      (layer): ModuleList(\n",
      "        (0): ViTLayer(\n",
      "          (attention): ViTAttention(\n",
      "            (attention): ViTSelfAttention(\n",
      "              (query): Linear(in_features=648, out_features=768, bias=True)\n",
      "              (key): Linear(in_features=648, out_features=768, bias=True)\n",
      "              (value): Linear(in_features=648, out_features=768, bias=True)\n",
      "              (dropout): Dropout(p=0.0, inplace=False)\n",
      "            )\n",
      "            (output): ViTSelfOutput(\n",
      "              (dense): Linear(in_features=768, out_features=648, bias=True)\n",
      "              (dropout): Dropout(p=0.0, inplace=False)\n",
      "            )\n",
      "          )\n",
      "          (intermediate): ViTIntermediate(\n",
      "            (dense): Linear(in_features=648, out_features=960, bias=True)\n",
      "            (intermediate_act_fn): GELUActivation()\n",
      "          )\n",
      "          (output): ViTOutput(\n",
      "            (dense): Linear(in_features=960, out_features=648, bias=True)\n",
      "            (dropout): Dropout(p=0.0, inplace=False)\n",
      "          )\n",
      "          (layernorm_before): LayerNorm((648,), eps=1e-12, elementwise_affine=True)\n",
      "          (layernorm_after): LayerNorm((648,), eps=1e-12, elementwise_affine=True)\n",
      "        )\n",
      "        (1-2): 2 x ViTLayer(\n",
      "          (attention): ViTAttention(\n",
      "            (attention): ViTSelfAttention(\n",
      "              (query): Linear(in_features=648, out_features=768, bias=True)\n",
      "              (key): Linear(in_features=648, out_features=768, bias=True)\n",
      "              (value): Linear(in_features=648, out_features=768, bias=True)\n",
      "              (dropout): Dropout(p=0.0, inplace=False)\n",
      "            )\n",
      "            (output): ViTSelfOutput(\n",
      "              (dense): Linear(in_features=768, out_features=648, bias=True)\n",
      "              (dropout): Dropout(p=0.0, inplace=False)\n",
      "            )\n",
      "          )\n",
      "          (intermediate): ViTIntermediate(\n",
      "            (dense): Linear(in_features=648, out_features=1280, bias=True)\n",
      "            (intermediate_act_fn): GELUActivation()\n",
      "          )\n",
      "          (output): ViTOutput(\n",
      "            (dense): Linear(in_features=1280, out_features=648, bias=True)\n",
      "            (dropout): Dropout(p=0.0, inplace=False)\n",
      "          )\n",
      "          (layernorm_before): LayerNorm((648,), eps=1e-12, elementwise_affine=True)\n",
      "          (layernorm_after): LayerNorm((648,), eps=1e-12, elementwise_affine=True)\n",
      "        )\n",
      "        (3): ViTLayer(\n",
      "          (attention): ViTAttention(\n",
      "            (attention): ViTSelfAttention(\n",
      "              (query): Linear(in_features=648, out_features=768, bias=True)\n",
      "              (key): Linear(in_features=648, out_features=768, bias=True)\n",
      "              (value): Linear(in_features=648, out_features=768, bias=True)\n",
      "              (dropout): Dropout(p=0.0, inplace=False)\n",
      "            )\n",
      "            (output): ViTSelfOutput(\n",
      "              (dense): Linear(in_features=768, out_features=648, bias=True)\n",
      "              (dropout): Dropout(p=0.0, inplace=False)\n",
      "            )\n",
      "          )\n",
      "          (intermediate): ViTIntermediate(\n",
      "            (dense): Linear(in_features=648, out_features=960, bias=True)\n",
      "            (intermediate_act_fn): GELUActivation()\n",
      "          )\n",
      "          (output): ViTOutput(\n",
      "            (dense): Linear(in_features=960, out_features=648, bias=True)\n",
      "            (dropout): Dropout(p=0.0, inplace=False)\n",
      "          )\n",
      "          (layernorm_before): LayerNorm((648,), eps=1e-12, elementwise_affine=True)\n",
      "          (layernorm_after): LayerNorm((648,), eps=1e-12, elementwise_affine=True)\n",
      "        )\n",
      "        (4): ViTLayer(\n",
      "          (attention): ViTAttention(\n",
      "            (attention): ViTSelfAttention(\n",
      "              (query): Linear(in_features=648, out_features=768, bias=True)\n",
      "              (key): Linear(in_features=648, out_features=768, bias=True)\n",
      "              (value): Linear(in_features=648, out_features=768, bias=True)\n",
      "              (dropout): Dropout(p=0.0, inplace=False)\n",
      "            )\n",
      "            (output): ViTSelfOutput(\n",
      "              (dense): Linear(in_features=768, out_features=648, bias=True)\n",
      "              (dropout): Dropout(p=0.0, inplace=False)\n",
      "            )\n",
      "          )\n",
      "          (intermediate): ViTIntermediate(\n",
      "            (dense): Linear(in_features=648, out_features=1280, bias=True)\n",
      "            (intermediate_act_fn): GELUActivation()\n",
      "          )\n",
      "          (output): ViTOutput(\n",
      "            (dense): Linear(in_features=1280, out_features=648, bias=True)\n",
      "            (dropout): Dropout(p=0.0, inplace=False)\n",
      "          )\n",
      "          (layernorm_before): LayerNorm((648,), eps=1e-12, elementwise_affine=True)\n",
      "          (layernorm_after): LayerNorm((648,), eps=1e-12, elementwise_affine=True)\n",
      "        )\n",
      "        (5): ViTLayer(\n",
      "          (attention): ViTAttention(\n",
      "            (attention): ViTSelfAttention(\n",
      "              (query): Linear(in_features=648, out_features=768, bias=True)\n",
      "              (key): Linear(in_features=648, out_features=768, bias=True)\n",
      "              (value): Linear(in_features=648, out_features=768, bias=True)\n",
      "              (dropout): Dropout(p=0.0, inplace=False)\n",
      "            )\n",
      "            (output): ViTSelfOutput(\n",
      "              (dense): Linear(in_features=768, out_features=648, bias=True)\n",
      "              (dropout): Dropout(p=0.0, inplace=False)\n",
      "            )\n",
      "          )\n",
      "          (intermediate): ViTIntermediate(\n",
      "            (dense): Linear(in_features=648, out_features=3072, bias=True)\n",
      "            (intermediate_act_fn): GELUActivation()\n",
      "          )\n",
      "          (output): ViTOutput(\n",
      "            (dense): Linear(in_features=3072, out_features=648, bias=True)\n",
      "            (dropout): Dropout(p=0.0, inplace=False)\n",
      "          )\n",
      "          (layernorm_before): LayerNorm((648,), eps=1e-12, elementwise_affine=True)\n",
      "          (layernorm_after): LayerNorm((648,), eps=1e-12, elementwise_affine=True)\n",
      "        )\n",
      "        (6): ViTLayer(\n",
      "          (attention): ViTAttention(\n",
      "            (attention): ViTSelfAttention(\n",
      "              (query): Linear(in_features=648, out_features=768, bias=True)\n",
      "              (key): Linear(in_features=648, out_features=768, bias=True)\n",
      "              (value): Linear(in_features=648, out_features=768, bias=True)\n",
      "              (dropout): Dropout(p=0.0, inplace=False)\n",
      "            )\n",
      "            (output): ViTSelfOutput(\n",
      "              (dense): Linear(in_features=768, out_features=648, bias=True)\n",
      "              (dropout): Dropout(p=0.0, inplace=False)\n",
      "            )\n",
      "          )\n",
      "          (intermediate): ViTIntermediate(\n",
      "            (dense): Linear(in_features=648, out_features=1280, bias=True)\n",
      "            (intermediate_act_fn): GELUActivation()\n",
      "          )\n",
      "          (output): ViTOutput(\n",
      "            (dense): Linear(in_features=1280, out_features=648, bias=True)\n",
      "            (dropout): Dropout(p=0.0, inplace=False)\n",
      "          )\n",
      "          (layernorm_before): LayerNorm((648,), eps=1e-12, elementwise_affine=True)\n",
      "          (layernorm_after): LayerNorm((648,), eps=1e-12, elementwise_affine=True)\n",
      "        )\n",
      "        (7-8): 2 x ViTLayer(\n",
      "          (attention): ViTAttention(\n",
      "            (attention): ViTSelfAttention(\n",
      "              (query): Linear(in_features=648, out_features=768, bias=True)\n",
      "              (key): Linear(in_features=648, out_features=768, bias=True)\n",
      "              (value): Linear(in_features=648, out_features=768, bias=True)\n",
      "              (dropout): Dropout(p=0.0, inplace=False)\n",
      "            )\n",
      "            (output): ViTSelfOutput(\n",
      "              (dense): Linear(in_features=768, out_features=648, bias=True)\n",
      "              (dropout): Dropout(p=0.0, inplace=False)\n",
      "            )\n",
      "          )\n",
      "          (intermediate): ViTIntermediate(\n",
      "            (dense): Linear(in_features=648, out_features=3072, bias=True)\n",
      "            (intermediate_act_fn): GELUActivation()\n",
      "          )\n",
      "          (output): ViTOutput(\n",
      "            (dense): Linear(in_features=3072, out_features=648, bias=True)\n",
      "            (dropout): Dropout(p=0.0, inplace=False)\n",
      "          )\n",
      "          (layernorm_before): LayerNorm((648,), eps=1e-12, elementwise_affine=True)\n",
      "          (layernorm_after): LayerNorm((648,), eps=1e-12, elementwise_affine=True)\n",
      "        )\n",
      "        (9-11): 3 x ViTLayer(\n",
      "          (attention): ViTAttention(\n",
      "            (attention): ViTSelfAttention(\n",
      "              (query): Linear(in_features=648, out_features=768, bias=True)\n",
      "              (key): Linear(in_features=648, out_features=768, bias=True)\n",
      "              (value): Linear(in_features=648, out_features=768, bias=True)\n",
      "              (dropout): Dropout(p=0.0, inplace=False)\n",
      "            )\n",
      "            (output): ViTSelfOutput(\n",
      "              (dense): Linear(in_features=768, out_features=648, bias=True)\n",
      "              (dropout): Dropout(p=0.0, inplace=False)\n",
      "            )\n",
      "          )\n",
      "          (intermediate): ViTIntermediate(\n",
      "            (dense): Linear(in_features=648, out_features=1280, bias=True)\n",
      "            (intermediate_act_fn): GELUActivation()\n",
      "          )\n",
      "          (output): ViTOutput(\n",
      "            (dense): Linear(in_features=1280, out_features=648, bias=True)\n",
      "            (dropout): Dropout(p=0.0, inplace=False)\n",
      "          )\n",
      "          (layernorm_before): LayerNorm((648,), eps=1e-12, elementwise_affine=True)\n",
      "          (layernorm_after): LayerNorm((648,), eps=1e-12, elementwise_affine=True)\n",
      "        )\n",
      "      )\n",
      "    )\n",
      "    (layernorm): LayerNorm((648,), eps=1e-12, elementwise_affine=True)\n",
      "  )\n",
      "  (classifier): Linear(in_features=648, out_features=100, bias=True)\n",
      ")\n"
     ]
    }
   ],
   "source": [
    "scaled_model,_,_ = super.random_resource_aware_model()\n",
    "params = calculate_params(scaled_model)\n",
    "print(\"scaled model params\",params)\n",
    "# print(scaled_model)"
   ]
  },
  {
   "cell_type": "code",
   "execution_count": 19,
   "id": "1c8f54a5",
   "metadata": {},
   "outputs": [
    {
     "data": {
      "text/html": [
       "\n",
       "    <div>\n",
       "      \n",
       "      <progress value='40' max='40' style='width:300px; height:20px; vertical-align: middle;'></progress>\n",
       "      [40/40 01:00]\n",
       "    </div>\n",
       "    "
      ],
      "text/plain": [
       "<IPython.core.display.HTML object>"
      ]
     },
     "metadata": {},
     "output_type": "display_data"
    }
   ],
   "source": [
    "\n",
    "trainer = Trainer(\n",
    "    model=scaled_model,\n",
    "    args=training_args,\n",
    "    data_collator=collate_fn,\n",
    "    compute_metrics=compute_metrics,\n",
    "    train_dataset=None,\n",
    "    eval_dataset=prepared_ds[\"validation\"],\n",
    "    # tokenizer=processor,\n",
    ")\n",
    "metrics = trainer.evaluate()\n"
   ]
  },
  {
   "cell_type": "code",
   "execution_count": 20,
   "id": "e7d26889",
   "metadata": {},
   "outputs": [
    {
     "name": "stdout",
     "output_type": "stream",
     "text": [
      "***** eval metrics *****\n",
      "  eval_accuracy           =     0.9789\n",
      "  eval_loss               =     0.2144\n",
      "  eval_runtime            = 0:01:03.36\n",
      "  eval_samples_per_second =     157.82\n",
      "  eval_steps_per_second   =      0.631\n"
     ]
    }
   ],
   "source": [
    "trainer.log_metrics(\"eval\", metrics)\n",
    "trainer.save_metrics(\"eval\", metrics)"
   ]
  },
  {
   "cell_type": "code",
   "execution_count": null,
   "id": "ef1bbfe9",
   "metadata": {},
   "outputs": [],
   "source": []
  }
 ],
 "metadata": {
  "kernelspec": {
   "display_name": "Python 3",
   "language": "python",
   "name": "python3"
  },
  "language_info": {
   "codemirror_mode": {
    "name": "ipython",
    "version": 3
   },
   "file_extension": ".py",
   "mimetype": "text/x-python",
   "name": "python",
   "nbconvert_exporter": "python",
   "pygments_lexer": "ipython3",
   "version": "3.11.7"
  }
 },
 "nbformat": 4,
 "nbformat_minor": 5
}
